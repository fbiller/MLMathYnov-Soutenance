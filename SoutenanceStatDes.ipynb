{
 "cells": [
  {
   "cell_type": "code",
   "execution_count": 7,
   "metadata": {},
   "outputs": [],
   "source": [
    "#Installation de la librairie pandas-profiling (à faire une fois), redémarrer le kernel jupyter ensuite"
   ]
  },
  {
   "cell_type": "code",
   "execution_count": null,
   "metadata": {},
   "outputs": [],
   "source": [
    "pip install pandas-profiling"
   ]
  },
  {
   "cell_type": "code",
   "execution_count": 47,
   "metadata": {},
   "outputs": [],
   "source": [
    "#Installation de la librairie researchpy (à faire une fois), redémarrer le kernel jupyter ensuite"
   ]
  },
  {
   "cell_type": "code",
   "execution_count": null,
   "metadata": {},
   "outputs": [],
   "source": [
    "pip install researchpy"
   ]
  },
  {
   "cell_type": "code",
   "execution_count": 1,
   "metadata": {},
   "outputs": [],
   "source": [
    "#Chargement des librairie nécessaires\n",
    "import os\n",
    "import argparse\n",
    "import pandas as pd\n",
    "import numpy as np\n",
    "import statsmodels.api\n",
    "from sklearn import preprocessing\n",
    "from sklearn import metrics\n",
    "from sklearn.linear_model import LogisticRegression\n",
    "from sklearn.model_selection import train_test_split\n",
    "from pandas_profiling import ProfileReport"
   ]
  },
  {
   "cell_type": "code",
   "execution_count": 2,
   "metadata": {},
   "outputs": [
    {
     "data": {
      "text/html": [
       "<div>\n",
       "<style scoped>\n",
       "    .dataframe tbody tr th:only-of-type {\n",
       "        vertical-align: middle;\n",
       "    }\n",
       "\n",
       "    .dataframe tbody tr th {\n",
       "        vertical-align: top;\n",
       "    }\n",
       "\n",
       "    .dataframe thead th {\n",
       "        text-align: right;\n",
       "    }\n",
       "</style>\n",
       "<table border=\"1\" class=\"dataframe\">\n",
       "  <thead>\n",
       "    <tr style=\"text-align: right;\">\n",
       "      <th></th>\n",
       "      <th>Unnamed: 0</th>\n",
       "      <th>index</th>\n",
       "      <th>date</th>\n",
       "      <th>cheveux</th>\n",
       "      <th>age</th>\n",
       "      <th>exp</th>\n",
       "      <th>salaire</th>\n",
       "      <th>sexe</th>\n",
       "      <th>diplome</th>\n",
       "      <th>specialite</th>\n",
       "      <th>note</th>\n",
       "      <th>dispo</th>\n",
       "      <th>embauche</th>\n",
       "    </tr>\n",
       "  </thead>\n",
       "  <tbody>\n",
       "    <tr>\n",
       "      <th>0</th>\n",
       "      <td>0</td>\n",
       "      <td>0</td>\n",
       "      <td>2012-06-02</td>\n",
       "      <td>roux</td>\n",
       "      <td>25.0</td>\n",
       "      <td>9.0</td>\n",
       "      <td>26803.0</td>\n",
       "      <td>F</td>\n",
       "      <td>licence</td>\n",
       "      <td>geologie</td>\n",
       "      <td>97.08</td>\n",
       "      <td>non</td>\n",
       "      <td>0</td>\n",
       "    </tr>\n",
       "    <tr>\n",
       "      <th>1</th>\n",
       "      <td>1</td>\n",
       "      <td>1</td>\n",
       "      <td>2011-04-21</td>\n",
       "      <td>blond</td>\n",
       "      <td>35.0</td>\n",
       "      <td>13.0</td>\n",
       "      <td>38166.0</td>\n",
       "      <td>M</td>\n",
       "      <td>licence</td>\n",
       "      <td>forage</td>\n",
       "      <td>63.86</td>\n",
       "      <td>non</td>\n",
       "      <td>0</td>\n",
       "    </tr>\n",
       "    <tr>\n",
       "      <th>2</th>\n",
       "      <td>2</td>\n",
       "      <td>2</td>\n",
       "      <td>2012-09-07</td>\n",
       "      <td>blond</td>\n",
       "      <td>29.0</td>\n",
       "      <td>13.0</td>\n",
       "      <td>35207.0</td>\n",
       "      <td>M</td>\n",
       "      <td>licence</td>\n",
       "      <td>geologie</td>\n",
       "      <td>78.50</td>\n",
       "      <td>non</td>\n",
       "      <td>0</td>\n",
       "    </tr>\n",
       "    <tr>\n",
       "      <th>3</th>\n",
       "      <td>3</td>\n",
       "      <td>3</td>\n",
       "      <td>2011-07-01</td>\n",
       "      <td>brun</td>\n",
       "      <td>NaN</td>\n",
       "      <td>12.0</td>\n",
       "      <td>32442.0</td>\n",
       "      <td>M</td>\n",
       "      <td>licence</td>\n",
       "      <td>geologie</td>\n",
       "      <td>45.09</td>\n",
       "      <td>non</td>\n",
       "      <td>0</td>\n",
       "    </tr>\n",
       "    <tr>\n",
       "      <th>4</th>\n",
       "      <td>4</td>\n",
       "      <td>4</td>\n",
       "      <td>2012-08-07</td>\n",
       "      <td>roux</td>\n",
       "      <td>35.0</td>\n",
       "      <td>6.0</td>\n",
       "      <td>28533.0</td>\n",
       "      <td>F</td>\n",
       "      <td>licence</td>\n",
       "      <td>detective</td>\n",
       "      <td>81.91</td>\n",
       "      <td>non</td>\n",
       "      <td>0</td>\n",
       "    </tr>\n",
       "  </tbody>\n",
       "</table>\n",
       "</div>"
      ],
      "text/plain": [
       "   Unnamed: 0  index        date cheveux   age   exp  salaire sexe  diplome  \\\n",
       "0           0      0  2012-06-02    roux  25.0   9.0  26803.0    F  licence   \n",
       "1           1      1  2011-04-21   blond  35.0  13.0  38166.0    M  licence   \n",
       "2           2      2  2012-09-07   blond  29.0  13.0  35207.0    M  licence   \n",
       "3           3      3  2011-07-01    brun   NaN  12.0  32442.0    M  licence   \n",
       "4           4      4  2012-08-07    roux  35.0   6.0  28533.0    F  licence   \n",
       "\n",
       "  specialite   note dispo  embauche  \n",
       "0   geologie  97.08   non         0  \n",
       "1     forage  63.86   non         0  \n",
       "2   geologie  78.50   non         0  \n",
       "3   geologie  45.09   non         0  \n",
       "4  detective  81.91   non         0  "
      ]
     },
     "execution_count": 2,
     "metadata": {},
     "output_type": "execute_result"
    }
   ],
   "source": [
    "chemin=os.getcwd()\n",
    "df = pd.read_csv(chemin + \"/\" + \"data_v1.0.csv\", encoding=\"unicode_escape\")\n",
    "df.head()"
   ]
  },
  {
   "cell_type": "code",
   "execution_count": 5,
   "metadata": {},
   "outputs": [
    {
     "name": "stdout",
     "output_type": "stream",
     "text": [
      "<class 'pandas.core.frame.DataFrame'>\n",
      "RangeIndex: 20000 entries, 0 to 19999\n",
      "Data columns (total 13 columns):\n",
      " #   Column      Non-Null Count  Dtype  \n",
      "---  ------      --------------  -----  \n",
      " 0   Unnamed: 0  20000 non-null  int64  \n",
      " 1   index       20000 non-null  int64  \n",
      " 2   date        19909 non-null  object \n",
      " 3   cheveux     19897 non-null  object \n",
      " 4   age         19909 non-null  float64\n",
      " 5   exp         19904 non-null  float64\n",
      " 6   salaire     19905 non-null  float64\n",
      " 7   sexe        19900 non-null  object \n",
      " 8   diplome     19890 non-null  object \n",
      " 9   specialite  19907 non-null  object \n",
      " 10  note        19886 non-null  float64\n",
      " 11  dispo       19894 non-null  object \n",
      " 12  embauche    20000 non-null  int64  \n",
      "dtypes: float64(4), int64(3), object(6)\n",
      "memory usage: 2.0+ MB\n"
     ]
    }
   ],
   "source": [
    "df.info ()"
   ]
  },
  {
   "cell_type": "code",
   "execution_count": 6,
   "metadata": {},
   "outputs": [
    {
     "data": {
      "text/html": [
       "<div>\n",
       "<style scoped>\n",
       "    .dataframe tbody tr th:only-of-type {\n",
       "        vertical-align: middle;\n",
       "    }\n",
       "\n",
       "    .dataframe tbody tr th {\n",
       "        vertical-align: top;\n",
       "    }\n",
       "\n",
       "    .dataframe thead th {\n",
       "        text-align: right;\n",
       "    }\n",
       "</style>\n",
       "<table border=\"1\" class=\"dataframe\">\n",
       "  <thead>\n",
       "    <tr style=\"text-align: right;\">\n",
       "      <th></th>\n",
       "      <th>Unnamed: 0</th>\n",
       "      <th>index</th>\n",
       "      <th>age</th>\n",
       "      <th>exp</th>\n",
       "      <th>salaire</th>\n",
       "      <th>note</th>\n",
       "      <th>embauche</th>\n",
       "    </tr>\n",
       "  </thead>\n",
       "  <tbody>\n",
       "    <tr>\n",
       "      <th>count</th>\n",
       "      <td>20000.000000</td>\n",
       "      <td>20000.000000</td>\n",
       "      <td>19909.000000</td>\n",
       "      <td>19904.000000</td>\n",
       "      <td>19905.000000</td>\n",
       "      <td>19886.000000</td>\n",
       "      <td>20000.000000</td>\n",
       "    </tr>\n",
       "    <tr>\n",
       "      <th>mean</th>\n",
       "      <td>9999.500000</td>\n",
       "      <td>9999.500000</td>\n",
       "      <td>35.004521</td>\n",
       "      <td>9.500352</td>\n",
       "      <td>34974.343934</td>\n",
       "      <td>75.168762</td>\n",
       "      <td>0.114600</td>\n",
       "    </tr>\n",
       "    <tr>\n",
       "      <th>std</th>\n",
       "      <td>5773.647028</td>\n",
       "      <td>5773.647028</td>\n",
       "      <td>9.609169</td>\n",
       "      <td>3.012109</td>\n",
       "      <td>5003.099616</td>\n",
       "      <td>17.095926</td>\n",
       "      <td>0.318547</td>\n",
       "    </tr>\n",
       "    <tr>\n",
       "      <th>min</th>\n",
       "      <td>0.000000</td>\n",
       "      <td>0.000000</td>\n",
       "      <td>-3.000000</td>\n",
       "      <td>-2.000000</td>\n",
       "      <td>14128.000000</td>\n",
       "      <td>8.680000</td>\n",
       "      <td>0.000000</td>\n",
       "    </tr>\n",
       "    <tr>\n",
       "      <th>25%</th>\n",
       "      <td>4999.750000</td>\n",
       "      <td>4999.750000</td>\n",
       "      <td>29.000000</td>\n",
       "      <td>7.000000</td>\n",
       "      <td>31596.000000</td>\n",
       "      <td>63.720000</td>\n",
       "      <td>0.000000</td>\n",
       "    </tr>\n",
       "    <tr>\n",
       "      <th>50%</th>\n",
       "      <td>9999.500000</td>\n",
       "      <td>9999.500000</td>\n",
       "      <td>35.000000</td>\n",
       "      <td>9.000000</td>\n",
       "      <td>34979.000000</td>\n",
       "      <td>75.080000</td>\n",
       "      <td>0.000000</td>\n",
       "    </tr>\n",
       "    <tr>\n",
       "      <th>75%</th>\n",
       "      <td>14999.250000</td>\n",
       "      <td>14999.250000</td>\n",
       "      <td>41.000000</td>\n",
       "      <td>12.000000</td>\n",
       "      <td>38358.000000</td>\n",
       "      <td>86.617500</td>\n",
       "      <td>0.000000</td>\n",
       "    </tr>\n",
       "    <tr>\n",
       "      <th>max</th>\n",
       "      <td>19999.000000</td>\n",
       "      <td>19999.000000</td>\n",
       "      <td>74.000000</td>\n",
       "      <td>23.000000</td>\n",
       "      <td>53977.000000</td>\n",
       "      <td>143.220000</td>\n",
       "      <td>1.000000</td>\n",
       "    </tr>\n",
       "  </tbody>\n",
       "</table>\n",
       "</div>"
      ],
      "text/plain": [
       "         Unnamed: 0         index           age           exp       salaire  \\\n",
       "count  20000.000000  20000.000000  19909.000000  19904.000000  19905.000000   \n",
       "mean    9999.500000   9999.500000     35.004521      9.500352  34974.343934   \n",
       "std     5773.647028   5773.647028      9.609169      3.012109   5003.099616   \n",
       "min        0.000000      0.000000     -3.000000     -2.000000  14128.000000   \n",
       "25%     4999.750000   4999.750000     29.000000      7.000000  31596.000000   \n",
       "50%     9999.500000   9999.500000     35.000000      9.000000  34979.000000   \n",
       "75%    14999.250000  14999.250000     41.000000     12.000000  38358.000000   \n",
       "max    19999.000000  19999.000000     74.000000     23.000000  53977.000000   \n",
       "\n",
       "               note      embauche  \n",
       "count  19886.000000  20000.000000  \n",
       "mean      75.168762      0.114600  \n",
       "std       17.095926      0.318547  \n",
       "min        8.680000      0.000000  \n",
       "25%       63.720000      0.000000  \n",
       "50%       75.080000      0.000000  \n",
       "75%       86.617500      0.000000  \n",
       "max      143.220000      1.000000  "
      ]
     },
     "execution_count": 6,
     "metadata": {},
     "output_type": "execute_result"
    }
   ],
   "source": [
    "df.describe ()"
   ]
  },
  {
   "cell_type": "markdown",
   "metadata": {},
   "source": [
    "#### Chargement d'un nouveau dataframe avec uniquement les colonne 2 à 12 incluses"
   ]
  },
  {
   "cell_type": "code",
   "execution_count": 7,
   "metadata": {},
   "outputs": [
    {
     "data": {
      "text/html": [
       "<div>\n",
       "<style scoped>\n",
       "    .dataframe tbody tr th:only-of-type {\n",
       "        vertical-align: middle;\n",
       "    }\n",
       "\n",
       "    .dataframe tbody tr th {\n",
       "        vertical-align: top;\n",
       "    }\n",
       "\n",
       "    .dataframe thead th {\n",
       "        text-align: right;\n",
       "    }\n",
       "</style>\n",
       "<table border=\"1\" class=\"dataframe\">\n",
       "  <thead>\n",
       "    <tr style=\"text-align: right;\">\n",
       "      <th></th>\n",
       "      <th>cheveux</th>\n",
       "      <th>age</th>\n",
       "      <th>exp</th>\n",
       "      <th>salaire</th>\n",
       "      <th>sexe</th>\n",
       "      <th>diplome</th>\n",
       "      <th>specialite</th>\n",
       "      <th>note</th>\n",
       "      <th>dispo</th>\n",
       "      <th>embauche</th>\n",
       "    </tr>\n",
       "    <tr>\n",
       "      <th>date</th>\n",
       "      <th></th>\n",
       "      <th></th>\n",
       "      <th></th>\n",
       "      <th></th>\n",
       "      <th></th>\n",
       "      <th></th>\n",
       "      <th></th>\n",
       "      <th></th>\n",
       "      <th></th>\n",
       "      <th></th>\n",
       "    </tr>\n",
       "  </thead>\n",
       "  <tbody>\n",
       "    <tr>\n",
       "      <th>2012-06-02</th>\n",
       "      <td>roux</td>\n",
       "      <td>25.0</td>\n",
       "      <td>9.0</td>\n",
       "      <td>26803.0</td>\n",
       "      <td>F</td>\n",
       "      <td>licence</td>\n",
       "      <td>geologie</td>\n",
       "      <td>97.08</td>\n",
       "      <td>non</td>\n",
       "      <td>0</td>\n",
       "    </tr>\n",
       "    <tr>\n",
       "      <th>2011-04-21</th>\n",
       "      <td>blond</td>\n",
       "      <td>35.0</td>\n",
       "      <td>13.0</td>\n",
       "      <td>38166.0</td>\n",
       "      <td>M</td>\n",
       "      <td>licence</td>\n",
       "      <td>forage</td>\n",
       "      <td>63.86</td>\n",
       "      <td>non</td>\n",
       "      <td>0</td>\n",
       "    </tr>\n",
       "    <tr>\n",
       "      <th>2012-09-07</th>\n",
       "      <td>blond</td>\n",
       "      <td>29.0</td>\n",
       "      <td>13.0</td>\n",
       "      <td>35207.0</td>\n",
       "      <td>M</td>\n",
       "      <td>licence</td>\n",
       "      <td>geologie</td>\n",
       "      <td>78.50</td>\n",
       "      <td>non</td>\n",
       "      <td>0</td>\n",
       "    </tr>\n",
       "    <tr>\n",
       "      <th>2011-07-01</th>\n",
       "      <td>brun</td>\n",
       "      <td>NaN</td>\n",
       "      <td>12.0</td>\n",
       "      <td>32442.0</td>\n",
       "      <td>M</td>\n",
       "      <td>licence</td>\n",
       "      <td>geologie</td>\n",
       "      <td>45.09</td>\n",
       "      <td>non</td>\n",
       "      <td>0</td>\n",
       "    </tr>\n",
       "    <tr>\n",
       "      <th>2012-08-07</th>\n",
       "      <td>roux</td>\n",
       "      <td>35.0</td>\n",
       "      <td>6.0</td>\n",
       "      <td>28533.0</td>\n",
       "      <td>F</td>\n",
       "      <td>licence</td>\n",
       "      <td>detective</td>\n",
       "      <td>81.91</td>\n",
       "      <td>non</td>\n",
       "      <td>0</td>\n",
       "    </tr>\n",
       "  </tbody>\n",
       "</table>\n",
       "</div>"
      ],
      "text/plain": [
       "           cheveux   age   exp  salaire sexe  diplome specialite   note dispo  \\\n",
       "date                                                                            \n",
       "2012-06-02    roux  25.0   9.0  26803.0    F  licence   geologie  97.08   non   \n",
       "2011-04-21   blond  35.0  13.0  38166.0    M  licence     forage  63.86   non   \n",
       "2012-09-07   blond  29.0  13.0  35207.0    M  licence   geologie  78.50   non   \n",
       "2011-07-01    brun   NaN  12.0  32442.0    M  licence   geologie  45.09   non   \n",
       "2012-08-07    roux  35.0   6.0  28533.0    F  licence  detective  81.91   non   \n",
       "\n",
       "            embauche  \n",
       "date                  \n",
       "2012-06-02         0  \n",
       "2011-04-21         0  \n",
       "2012-09-07         0  \n",
       "2011-07-01         0  \n",
       "2012-08-07         0  "
      ]
     },
     "execution_count": 7,
     "metadata": {},
     "output_type": "execute_result"
    }
   ],
   "source": [
    "chemin=os.getcwd()\n",
    "df = pd.read_csv(chemin + \"/\" + \"data_v1.0.csv\", index_col= 0, header=0, usecols=range(2,13),encoding=\"unicode_escape\")\n",
    "df.head()"
   ]
  },
  {
   "cell_type": "code",
   "execution_count": 8,
   "metadata": {},
   "outputs": [
    {
     "data": {
      "text/html": [
       "<div>\n",
       "<style scoped>\n",
       "    .dataframe tbody tr th:only-of-type {\n",
       "        vertical-align: middle;\n",
       "    }\n",
       "\n",
       "    .dataframe tbody tr th {\n",
       "        vertical-align: top;\n",
       "    }\n",
       "\n",
       "    .dataframe thead th {\n",
       "        text-align: right;\n",
       "    }\n",
       "</style>\n",
       "<table border=\"1\" class=\"dataframe\">\n",
       "  <thead>\n",
       "    <tr style=\"text-align: right;\">\n",
       "      <th></th>\n",
       "      <th>age</th>\n",
       "      <th>exp</th>\n",
       "      <th>salaire</th>\n",
       "      <th>note</th>\n",
       "      <th>embauche</th>\n",
       "    </tr>\n",
       "  </thead>\n",
       "  <tbody>\n",
       "    <tr>\n",
       "      <th>count</th>\n",
       "      <td>19909.000000</td>\n",
       "      <td>19904.000000</td>\n",
       "      <td>19905.000000</td>\n",
       "      <td>19886.000000</td>\n",
       "      <td>20000.000000</td>\n",
       "    </tr>\n",
       "    <tr>\n",
       "      <th>mean</th>\n",
       "      <td>35.004521</td>\n",
       "      <td>9.500352</td>\n",
       "      <td>34974.343934</td>\n",
       "      <td>75.168762</td>\n",
       "      <td>0.114600</td>\n",
       "    </tr>\n",
       "    <tr>\n",
       "      <th>std</th>\n",
       "      <td>9.609169</td>\n",
       "      <td>3.012109</td>\n",
       "      <td>5003.099616</td>\n",
       "      <td>17.095926</td>\n",
       "      <td>0.318547</td>\n",
       "    </tr>\n",
       "    <tr>\n",
       "      <th>min</th>\n",
       "      <td>-3.000000</td>\n",
       "      <td>-2.000000</td>\n",
       "      <td>14128.000000</td>\n",
       "      <td>8.680000</td>\n",
       "      <td>0.000000</td>\n",
       "    </tr>\n",
       "    <tr>\n",
       "      <th>25%</th>\n",
       "      <td>29.000000</td>\n",
       "      <td>7.000000</td>\n",
       "      <td>31596.000000</td>\n",
       "      <td>63.720000</td>\n",
       "      <td>0.000000</td>\n",
       "    </tr>\n",
       "    <tr>\n",
       "      <th>50%</th>\n",
       "      <td>35.000000</td>\n",
       "      <td>9.000000</td>\n",
       "      <td>34979.000000</td>\n",
       "      <td>75.080000</td>\n",
       "      <td>0.000000</td>\n",
       "    </tr>\n",
       "    <tr>\n",
       "      <th>75%</th>\n",
       "      <td>41.000000</td>\n",
       "      <td>12.000000</td>\n",
       "      <td>38358.000000</td>\n",
       "      <td>86.617500</td>\n",
       "      <td>0.000000</td>\n",
       "    </tr>\n",
       "    <tr>\n",
       "      <th>max</th>\n",
       "      <td>74.000000</td>\n",
       "      <td>23.000000</td>\n",
       "      <td>53977.000000</td>\n",
       "      <td>143.220000</td>\n",
       "      <td>1.000000</td>\n",
       "    </tr>\n",
       "  </tbody>\n",
       "</table>\n",
       "</div>"
      ],
      "text/plain": [
       "                age           exp       salaire          note      embauche\n",
       "count  19909.000000  19904.000000  19905.000000  19886.000000  20000.000000\n",
       "mean      35.004521      9.500352  34974.343934     75.168762      0.114600\n",
       "std        9.609169      3.012109   5003.099616     17.095926      0.318547\n",
       "min       -3.000000     -2.000000  14128.000000      8.680000      0.000000\n",
       "25%       29.000000      7.000000  31596.000000     63.720000      0.000000\n",
       "50%       35.000000      9.000000  34979.000000     75.080000      0.000000\n",
       "75%       41.000000     12.000000  38358.000000     86.617500      0.000000\n",
       "max       74.000000     23.000000  53977.000000    143.220000      1.000000"
      ]
     },
     "execution_count": 8,
     "metadata": {},
     "output_type": "execute_result"
    }
   ],
   "source": [
    "df.describe ()"
   ]
  },
  {
   "cell_type": "code",
   "execution_count": 14,
   "metadata": {},
   "outputs": [
    {
     "name": "stdout",
     "output_type": "stream",
     "text": [
      "#[1]============ Profilage du jeux de données ================\n"
     ]
    },
    {
     "data": {
      "application/vnd.jupyter.widget-view+json": {
       "model_id": "4309438842bd4a26971cd449c873a964",
       "version_major": 2,
       "version_minor": 0
      },
      "text/plain": [
       "HBox(children=(FloatProgress(value=0.0, description='Summarize dataset', max=25.0, style=ProgressStyle(descrip…"
      ]
     },
     "metadata": {},
     "output_type": "display_data"
    },
    {
     "name": "stdout",
     "output_type": "stream",
     "text": [
      "\n"
     ]
    },
    {
     "data": {
      "application/vnd.jupyter.widget-view+json": {
       "model_id": "94cba18aba2f47d9a7f6a09a06868d6e",
       "version_major": 2,
       "version_minor": 0
      },
      "text/plain": [
       "HBox(children=(FloatProgress(value=0.0, description='Generate report structure', max=1.0, style=ProgressStyle(…"
      ]
     },
     "metadata": {},
     "output_type": "display_data"
    },
    {
     "name": "stdout",
     "output_type": "stream",
     "text": [
      "\n"
     ]
    },
    {
     "data": {
      "application/vnd.jupyter.widget-view+json": {
       "model_id": "872b3231b4f5419c9500037304701faa",
       "version_major": 2,
       "version_minor": 0
      },
      "text/plain": [
       "HBox(children=(FloatProgress(value=0.0, description='Render HTML', max=1.0, style=ProgressStyle(description_wi…"
      ]
     },
     "metadata": {},
     "output_type": "display_data"
    },
    {
     "name": "stdout",
     "output_type": "stream",
     "text": [
      "\n"
     ]
    },
    {
     "data": {
      "application/vnd.jupyter.widget-view+json": {
       "model_id": "04a3ae2711d141409b86cf38ec4cec17",
       "version_major": 2,
       "version_minor": 0
      },
      "text/plain": [
       "HBox(children=(FloatProgress(value=0.0, description='Export report to file', max=1.0, style=ProgressStyle(desc…"
      ]
     },
     "metadata": {},
     "output_type": "display_data"
    },
    {
     "name": "stdout",
     "output_type": "stream",
     "text": [
      "\n"
     ]
    }
   ],
   "source": [
    "print (\"#[1]============ Profilage du jeux de données ================\")\n",
    "from pandas_profiling import ProfileReport\n",
    "prof=ProfileReport(df)\n",
    "prof.to_file(output_file=\"rapport_Data_Set.html\")"
   ]
  },
  {
   "cell_type": "markdown",
   "metadata": {},
   "source": [
    "### Stat sur les cellules vides"
   ]
  },
  {
   "cell_type": "code",
   "execution_count": 14,
   "metadata": {},
   "outputs": [
    {
     "data": {
      "text/plain": [
       "908"
      ]
     },
     "execution_count": 14,
     "metadata": {},
     "output_type": "execute_result"
    }
   ],
   "source": [
    "df.isnull().sum(axis = 0).sum()"
   ]
  },
  {
   "cell_type": "code",
   "execution_count": 15,
   "metadata": {},
   "outputs": [
    {
     "data": {
      "text/plain": [
       "cheveux       103\n",
       "age            91\n",
       "exp            96\n",
       "salaire        95\n",
       "sexe          100\n",
       "diplome       110\n",
       "specialite     93\n",
       "note          114\n",
       "dispo         106\n",
       "embauche        0\n",
       "dtype: int64"
      ]
     },
     "execution_count": 15,
     "metadata": {},
     "output_type": "execute_result"
    }
   ],
   "source": [
    "df.isnull().sum(axis = 0)"
   ]
  },
  {
   "cell_type": "markdown",
   "metadata": {},
   "source": [
    "### Rejet des lignes commportant des cellules vides\n",
    "##### On peut le faire sans perturber le jeu de donnée, les valeurs NaN de chaque colonne représentant 1% du nombre de lignes"
   ]
  },
  {
   "cell_type": "code",
   "execution_count": 15,
   "metadata": {},
   "outputs": [],
   "source": [
    "df.dropna(inplace=True)"
   ]
  },
  {
   "cell_type": "markdown",
   "metadata": {},
   "source": [
    "### ne conservons que les rangées comportant des valeurs cohérentes\n"
   ]
  },
  {
   "cell_type": "code",
   "execution_count": 16,
   "metadata": {},
   "outputs": [],
   "source": [
    "df = df[df.age > 0]\n",
    "df = df[df.exp > 0]"
   ]
  },
  {
   "cell_type": "markdown",
   "metadata": {},
   "source": [
    "## Recherche des corrélations entre variables\n",
    "##### source méthodologique : https://medium.com/brdata/correlation-straight-to-the-point-e692ab601f4c"
   ]
  },
  {
   "cell_type": "markdown",
   "metadata": {},
   "source": [
    "#### Construction de 2 dataframes 1 contenant les variables catégorielles et l'autre sans celles-ci"
   ]
  },
  {
   "cell_type": "code",
   "execution_count": 19,
   "metadata": {},
   "outputs": [],
   "source": [
    "df_objects = df.select_dtypes(include=['object']) # select object type columns only\n",
    "df_bar_objects = df.select_dtypes(exclude=['object']) # excluding object type column."
   ]
  },
  {
   "cell_type": "markdown",
   "metadata": {},
   "source": [
    "##### Vectorization -> Categorical variable converted into countinous variable through integer vector. "
   ]
  },
  {
   "cell_type": "code",
   "execution_count": 20,
   "metadata": {},
   "outputs": [],
   "source": [
    "df_objects = df_objects.apply(lambda x : pd.factorize(x)[0]) \n",
    "df_final = df_bar_objects.join(df_objects) # Join both dataframes"
   ]
  },
  {
   "cell_type": "markdown",
   "metadata": {},
   "source": [
    "## pearson : standard correlation coefficient (linear corr)\n",
    "##### df.corr(method='pearson'). Pearson’s correlation measures the **linear association** between continuous variables.\n",
    "\n",
    "##### Interpreting the value of ρ :\n",
    "###### - 0.9 to 1 positive or negative indicates a very strong correlation.\n",
    "###### - 0.7 to 0.9 positive or negative indicates a strong correlation.\n",
    "###### - 0.5 to 0.7 positive or negative indicates a moderate correlation.\n",
    "###### - 0.3 to 0.5 positive or negative indicates a weak correlation.\n",
    "###### - 0 to 0.3 positive or negative indicates a negligible correlation.\n"
   ]
  },
  {
   "cell_type": "code",
   "execution_count": 23,
   "metadata": {},
   "outputs": [
    {
     "data": {
      "text/html": [
       "<div>\n",
       "<style scoped>\n",
       "    .dataframe tbody tr th:only-of-type {\n",
       "        vertical-align: middle;\n",
       "    }\n",
       "\n",
       "    .dataframe tbody tr th {\n",
       "        vertical-align: top;\n",
       "    }\n",
       "\n",
       "    .dataframe thead th {\n",
       "        text-align: right;\n",
       "    }\n",
       "</style>\n",
       "<table border=\"1\" class=\"dataframe\">\n",
       "  <thead>\n",
       "    <tr style=\"text-align: right;\">\n",
       "      <th></th>\n",
       "      <th>age</th>\n",
       "      <th>exp</th>\n",
       "      <th>salaire</th>\n",
       "      <th>note</th>\n",
       "      <th>cheveux</th>\n",
       "      <th>sexe</th>\n",
       "      <th>diplome</th>\n",
       "      <th>specialite</th>\n",
       "      <th>dispo</th>\n",
       "    </tr>\n",
       "  </thead>\n",
       "  <tbody>\n",
       "    <tr>\n",
       "      <th>age</th>\n",
       "      <td>1.000000</td>\n",
       "      <td>-0.005617</td>\n",
       "      <td>-0.000077</td>\n",
       "      <td>-0.004588</td>\n",
       "      <td>0.001421</td>\n",
       "      <td>-0.002809</td>\n",
       "      <td>-0.002091</td>\n",
       "      <td>-0.000544</td>\n",
       "      <td>-0.001165</td>\n",
       "    </tr>\n",
       "    <tr>\n",
       "      <th>exp</th>\n",
       "      <td>-0.005617</td>\n",
       "      <td>1.000000</td>\n",
       "      <td>0.009070</td>\n",
       "      <td>-0.011368</td>\n",
       "      <td>0.000800</td>\n",
       "      <td>-0.001680</td>\n",
       "      <td>0.003259</td>\n",
       "      <td>-0.001823</td>\n",
       "      <td>-0.005527</td>\n",
       "    </tr>\n",
       "    <tr>\n",
       "      <th>salaire</th>\n",
       "      <td>-0.000077</td>\n",
       "      <td>0.009070</td>\n",
       "      <td>1.000000</td>\n",
       "      <td>-0.450221</td>\n",
       "      <td>0.007885</td>\n",
       "      <td>0.010400</td>\n",
       "      <td>-0.003166</td>\n",
       "      <td>0.008784</td>\n",
       "      <td>0.014764</td>\n",
       "    </tr>\n",
       "    <tr>\n",
       "      <th>note</th>\n",
       "      <td>-0.004588</td>\n",
       "      <td>-0.011368</td>\n",
       "      <td>-0.450221</td>\n",
       "      <td>1.000000</td>\n",
       "      <td>0.000547</td>\n",
       "      <td>-0.020450</td>\n",
       "      <td>0.002505</td>\n",
       "      <td>0.016372</td>\n",
       "      <td>0.026477</td>\n",
       "    </tr>\n",
       "    <tr>\n",
       "      <th>cheveux</th>\n",
       "      <td>0.001421</td>\n",
       "      <td>0.000800</td>\n",
       "      <td>0.007885</td>\n",
       "      <td>0.000547</td>\n",
       "      <td>1.000000</td>\n",
       "      <td>-0.282810</td>\n",
       "      <td>-0.029611</td>\n",
       "      <td>0.150646</td>\n",
       "      <td>0.124479</td>\n",
       "    </tr>\n",
       "    <tr>\n",
       "      <th>sexe</th>\n",
       "      <td>-0.002809</td>\n",
       "      <td>-0.001680</td>\n",
       "      <td>0.010400</td>\n",
       "      <td>-0.020450</td>\n",
       "      <td>-0.282810</td>\n",
       "      <td>1.000000</td>\n",
       "      <td>-0.000399</td>\n",
       "      <td>-0.356891</td>\n",
       "      <td>0.065771</td>\n",
       "    </tr>\n",
       "    <tr>\n",
       "      <th>diplome</th>\n",
       "      <td>-0.002091</td>\n",
       "      <td>0.003259</td>\n",
       "      <td>-0.003166</td>\n",
       "      <td>0.002505</td>\n",
       "      <td>-0.029611</td>\n",
       "      <td>-0.000399</td>\n",
       "      <td>1.000000</td>\n",
       "      <td>-0.007399</td>\n",
       "      <td>0.047318</td>\n",
       "    </tr>\n",
       "    <tr>\n",
       "      <th>specialite</th>\n",
       "      <td>-0.000544</td>\n",
       "      <td>-0.001823</td>\n",
       "      <td>0.008784</td>\n",
       "      <td>0.016372</td>\n",
       "      <td>0.150646</td>\n",
       "      <td>-0.356891</td>\n",
       "      <td>-0.007399</td>\n",
       "      <td>1.000000</td>\n",
       "      <td>0.366578</td>\n",
       "    </tr>\n",
       "    <tr>\n",
       "      <th>dispo</th>\n",
       "      <td>-0.001165</td>\n",
       "      <td>-0.005527</td>\n",
       "      <td>0.014764</td>\n",
       "      <td>0.026477</td>\n",
       "      <td>0.124479</td>\n",
       "      <td>0.065771</td>\n",
       "      <td>0.047318</td>\n",
       "      <td>0.366578</td>\n",
       "      <td>1.000000</td>\n",
       "    </tr>\n",
       "  </tbody>\n",
       "</table>\n",
       "</div>"
      ],
      "text/plain": [
       "                 age       exp   salaire      note   cheveux      sexe  \\\n",
       "age         1.000000 -0.005617 -0.000077 -0.004588  0.001421 -0.002809   \n",
       "exp        -0.005617  1.000000  0.009070 -0.011368  0.000800 -0.001680   \n",
       "salaire    -0.000077  0.009070  1.000000 -0.450221  0.007885  0.010400   \n",
       "note       -0.004588 -0.011368 -0.450221  1.000000  0.000547 -0.020450   \n",
       "cheveux     0.001421  0.000800  0.007885  0.000547  1.000000 -0.282810   \n",
       "sexe       -0.002809 -0.001680  0.010400 -0.020450 -0.282810  1.000000   \n",
       "diplome    -0.002091  0.003259 -0.003166  0.002505 -0.029611 -0.000399   \n",
       "specialite -0.000544 -0.001823  0.008784  0.016372  0.150646 -0.356891   \n",
       "dispo      -0.001165 -0.005527  0.014764  0.026477  0.124479  0.065771   \n",
       "\n",
       "             diplome  specialite     dispo  \n",
       "age        -0.002091   -0.000544 -0.001165  \n",
       "exp         0.003259   -0.001823 -0.005527  \n",
       "salaire    -0.003166    0.008784  0.014764  \n",
       "note        0.002505    0.016372  0.026477  \n",
       "cheveux    -0.029611    0.150646  0.124479  \n",
       "sexe       -0.000399   -0.356891  0.065771  \n",
       "diplome     1.000000   -0.007399  0.047318  \n",
       "specialite -0.007399    1.000000  0.366578  \n",
       "dispo       0.047318    0.366578  1.000000  "
      ]
     },
     "execution_count": 23,
     "metadata": {},
     "output_type": "execute_result"
    }
   ],
   "source": [
    "df_filter = df_final.drop([\"embauche\"], axis=1).copy()\n",
    "df_filter.corr(method='pearson', min_periods=1)"
   ]
  },
  {
   "cell_type": "markdown",
   "metadata": {},
   "source": [
    "##### conclusion il y corrélation (faible) entre : salaire/note, specialité/sexe, spécialité/dispo (négligeable) entre : sexe/cheveux"
   ]
  },
  {
   "cell_type": "markdown",
   "metadata": {},
   "source": [
    "## Spearman Correlation Coefficient\n",
    "##### The Spearman correlation coefficient is indicated for the calculation of the correlation between random variables x and y related monotonically to each other, **but not necessarily linearly**. If the relation is linear Pearson’s method is the most indicated."
   ]
  },
  {
   "cell_type": "code",
   "execution_count": 24,
   "metadata": {},
   "outputs": [
    {
     "data": {
      "text/html": [
       "<div>\n",
       "<style scoped>\n",
       "    .dataframe tbody tr th:only-of-type {\n",
       "        vertical-align: middle;\n",
       "    }\n",
       "\n",
       "    .dataframe tbody tr th {\n",
       "        vertical-align: top;\n",
       "    }\n",
       "\n",
       "    .dataframe thead th {\n",
       "        text-align: right;\n",
       "    }\n",
       "</style>\n",
       "<table border=\"1\" class=\"dataframe\">\n",
       "  <thead>\n",
       "    <tr style=\"text-align: right;\">\n",
       "      <th></th>\n",
       "      <th>age</th>\n",
       "      <th>exp</th>\n",
       "      <th>salaire</th>\n",
       "      <th>note</th>\n",
       "      <th>cheveux</th>\n",
       "      <th>sexe</th>\n",
       "      <th>diplome</th>\n",
       "      <th>specialite</th>\n",
       "      <th>dispo</th>\n",
       "    </tr>\n",
       "  </thead>\n",
       "  <tbody>\n",
       "    <tr>\n",
       "      <th>age</th>\n",
       "      <td>1.000000</td>\n",
       "      <td>-0.008180</td>\n",
       "      <td>-0.002968</td>\n",
       "      <td>-0.004067</td>\n",
       "      <td>0.001494</td>\n",
       "      <td>-0.002627</td>\n",
       "      <td>-0.002615</td>\n",
       "      <td>-0.000454</td>\n",
       "      <td>-0.000110</td>\n",
       "    </tr>\n",
       "    <tr>\n",
       "      <th>exp</th>\n",
       "      <td>-0.008180</td>\n",
       "      <td>1.000000</td>\n",
       "      <td>0.005258</td>\n",
       "      <td>-0.011692</td>\n",
       "      <td>0.001278</td>\n",
       "      <td>-0.002203</td>\n",
       "      <td>0.002896</td>\n",
       "      <td>-0.002094</td>\n",
       "      <td>-0.005321</td>\n",
       "    </tr>\n",
       "    <tr>\n",
       "      <th>salaire</th>\n",
       "      <td>-0.002968</td>\n",
       "      <td>0.005258</td>\n",
       "      <td>1.000000</td>\n",
       "      <td>-0.424655</td>\n",
       "      <td>0.007196</td>\n",
       "      <td>0.010903</td>\n",
       "      <td>-0.008189</td>\n",
       "      <td>0.008088</td>\n",
       "      <td>0.015151</td>\n",
       "    </tr>\n",
       "    <tr>\n",
       "      <th>note</th>\n",
       "      <td>-0.004067</td>\n",
       "      <td>-0.011692</td>\n",
       "      <td>-0.424655</td>\n",
       "      <td>1.000000</td>\n",
       "      <td>0.000895</td>\n",
       "      <td>-0.021130</td>\n",
       "      <td>0.011842</td>\n",
       "      <td>0.015766</td>\n",
       "      <td>0.026841</td>\n",
       "    </tr>\n",
       "    <tr>\n",
       "      <th>cheveux</th>\n",
       "      <td>0.001494</td>\n",
       "      <td>0.001278</td>\n",
       "      <td>0.007196</td>\n",
       "      <td>0.000895</td>\n",
       "      <td>1.000000</td>\n",
       "      <td>-0.290879</td>\n",
       "      <td>0.085806</td>\n",
       "      <td>0.150476</td>\n",
       "      <td>0.125223</td>\n",
       "    </tr>\n",
       "    <tr>\n",
       "      <th>sexe</th>\n",
       "      <td>-0.002627</td>\n",
       "      <td>-0.002203</td>\n",
       "      <td>0.010903</td>\n",
       "      <td>-0.021130</td>\n",
       "      <td>-0.290879</td>\n",
       "      <td>1.000000</td>\n",
       "      <td>-0.009727</td>\n",
       "      <td>-0.360798</td>\n",
       "      <td>0.067318</td>\n",
       "    </tr>\n",
       "    <tr>\n",
       "      <th>diplome</th>\n",
       "      <td>-0.002615</td>\n",
       "      <td>0.002896</td>\n",
       "      <td>-0.008189</td>\n",
       "      <td>0.011842</td>\n",
       "      <td>0.085806</td>\n",
       "      <td>-0.009727</td>\n",
       "      <td>1.000000</td>\n",
       "      <td>0.009849</td>\n",
       "      <td>0.136684</td>\n",
       "    </tr>\n",
       "    <tr>\n",
       "      <th>specialite</th>\n",
       "      <td>-0.000454</td>\n",
       "      <td>-0.002094</td>\n",
       "      <td>0.008088</td>\n",
       "      <td>0.015766</td>\n",
       "      <td>0.150476</td>\n",
       "      <td>-0.360798</td>\n",
       "      <td>0.009849</td>\n",
       "      <td>1.000000</td>\n",
       "      <td>0.372544</td>\n",
       "    </tr>\n",
       "    <tr>\n",
       "      <th>dispo</th>\n",
       "      <td>-0.000110</td>\n",
       "      <td>-0.005321</td>\n",
       "      <td>0.015151</td>\n",
       "      <td>0.026841</td>\n",
       "      <td>0.125223</td>\n",
       "      <td>0.067318</td>\n",
       "      <td>0.136684</td>\n",
       "      <td>0.372544</td>\n",
       "      <td>1.000000</td>\n",
       "    </tr>\n",
       "  </tbody>\n",
       "</table>\n",
       "</div>"
      ],
      "text/plain": [
       "                 age       exp   salaire      note   cheveux      sexe  \\\n",
       "age         1.000000 -0.008180 -0.002968 -0.004067  0.001494 -0.002627   \n",
       "exp        -0.008180  1.000000  0.005258 -0.011692  0.001278 -0.002203   \n",
       "salaire    -0.002968  0.005258  1.000000 -0.424655  0.007196  0.010903   \n",
       "note       -0.004067 -0.011692 -0.424655  1.000000  0.000895 -0.021130   \n",
       "cheveux     0.001494  0.001278  0.007196  0.000895  1.000000 -0.290879   \n",
       "sexe       -0.002627 -0.002203  0.010903 -0.021130 -0.290879  1.000000   \n",
       "diplome    -0.002615  0.002896 -0.008189  0.011842  0.085806 -0.009727   \n",
       "specialite -0.000454 -0.002094  0.008088  0.015766  0.150476 -0.360798   \n",
       "dispo      -0.000110 -0.005321  0.015151  0.026841  0.125223  0.067318   \n",
       "\n",
       "             diplome  specialite     dispo  \n",
       "age        -0.002615   -0.000454 -0.000110  \n",
       "exp         0.002896   -0.002094 -0.005321  \n",
       "salaire    -0.008189    0.008088  0.015151  \n",
       "note        0.011842    0.015766  0.026841  \n",
       "cheveux     0.085806    0.150476  0.125223  \n",
       "sexe       -0.009727   -0.360798  0.067318  \n",
       "diplome     1.000000    0.009849  0.136684  \n",
       "specialite  0.009849    1.000000  0.372544  \n",
       "dispo       0.136684    0.372544  1.000000  "
      ]
     },
     "execution_count": 24,
     "metadata": {},
     "output_type": "execute_result"
    }
   ],
   "source": [
    "df_filter = df_final.drop([\"embauche\"], axis=1).copy()\n",
    "df_filter.corr(method='spearman', min_periods=1)"
   ]
  },
  {
   "cell_type": "markdown",
   "metadata": {},
   "source": [
    "##### conclusion il y corrélation (faible) entre : salaire/note, specialité/sexe, spécialité/dispo (négligeable) entre : sexe/cheveux"
   ]
  },
  {
   "cell_type": "markdown",
   "metadata": {},
   "source": [
    "## Test du Khi-2 (est-ce que des variables catégorielles sont indépendantes ?)"
   ]
  },
  {
   "cell_type": "markdown",
   "metadata": {},
   "source": [
    "###### Sexe et Spécialité sont 2 variables catégorielles (qui possède un nombre fini de catégories). Pour savoir si ces 2 variables sont liées\n",
    "###### on utilise le test du Khi-2 [1]. En testant l’hypothèse nulle : “les 2 variables sexe et spécialité sont indépendantes”\n",
    "###### https://datascientest.com/correlation-entre-variables-comment-mesurer-la-dependance "
   ]
  },
  {
   "cell_type": "markdown",
   "metadata": {},
   "source": [
    "#### table de contingence sexe/specialite et test du CHI2"
   ]
  },
  {
   "cell_type": "code",
   "execution_count": 33,
   "metadata": {},
   "outputs": [],
   "source": [
    "table = pd.crosstab (df[\"sexe\"],df[\"specialite\"])\n",
    "from scipy.stats import chi2_contingency"
   ]
  },
  {
   "cell_type": "code",
   "execution_count": 34,
   "metadata": {},
   "outputs": [],
   "source": [
    "resultats_test = chi2_contingency(table)"
   ]
  },
  {
   "cell_type": "code",
   "execution_count": 35,
   "metadata": {},
   "outputs": [],
   "source": [
    "statistique_de_test = resultats_test[0]\n",
    "p_valeur = resultats_test[1]\n",
    "degre_de_liberte = resultats_test[2]"
   ]
  },
  {
   "cell_type": "markdown",
   "metadata": {},
   "source": [
    "###### Pour décider du rejet ou non de l’hypothèse nulle. On regarde la p_valeur. \n",
    "###### Si cette dernière est en-dessous de 5% alors on rejette l’hypothèse nulle.\n",
    "###### Donc ici le test du Khi-2 nous permet d'affirmer que ces 2 variables sont liées."
   ]
  },
  {
   "cell_type": "code",
   "execution_count": 40,
   "metadata": {},
   "outputs": [
    {
     "name": "stdout",
     "output_type": "stream",
     "text": [
      "Hypothèse nulle rejetée, les 2 variables sont liées\n"
     ]
    }
   ],
   "source": [
    "if p_valeur <0.05 :  print (\"Hypothèse nulle rejetée, les 2 variables sont liées\")"
   ]
  },
  {
   "cell_type": "markdown",
   "metadata": {},
   "source": [
    "#### Détermination de la force de la relation entre ces 2 variables avec le calcul du V de cramer"
   ]
  },
  {
   "cell_type": "code",
   "execution_count": 43,
   "metadata": {},
   "outputs": [],
   "source": [
    "import scipy.stats as ss\n",
    "def cramers_corrected_stat (confusion_matrix):\n",
    "    chi2 = ss.chi2_contingency(confusion_matrix)[0]\n",
    "    n = confusion_matrix.sum().sum()\n",
    "    phi2 = chi2/n\n",
    "    r,k = confusion_matrix.shape\n",
    "    phi2corr=max(0,phi2-((k-1)*(r-1))/(n-1))\n",
    "    rcorr = r - ((r-1)**2)/(n-1)\n",
    "    kcorr = k - ((k-1)**2)/(n-1)\n",
    "    return np.sqrt(phi2corr/min((kcorr-1),(rcorr-1)))"
   ]
  },
  {
   "cell_type": "code",
   "execution_count": 44,
   "metadata": {},
   "outputs": [
    {
     "data": {
      "text/plain": [
       "0.3695338702710378"
      ]
     },
     "execution_count": 44,
     "metadata": {},
     "output_type": "execute_result"
    }
   ],
   "source": [
    "cramers_corrected_stat(table)"
   ]
  },
  {
   "cell_type": "markdown",
   "metadata": {},
   "source": [
    "##### la relation entre ces 2 variable est modeste, car le calcul du V de cramer corrigé ci-dessus\n",
    "##### est plus proche de zéro (relation faible) que de 0,9 (relation très forte)"
   ]
  },
  {
   "cell_type": "code",
   "execution_count": 49,
   "metadata": {},
   "outputs": [],
   "source": [
    "import researchpy as rp"
   ]
  },
  {
   "cell_type": "markdown",
   "metadata": {},
   "source": [
    "#### Analyse de la variance (ANOVA) à un facteur (corrélation entre une variable continue et une variable catégorielle)"
   ]
  },
  {
   "cell_type": "markdown",
   "metadata": {},
   "source": [
    "##### si la variable cheveux n'a pas d'influence sur le variable catégorielle Salaire alors leur moyenne devraient être identiques\n",
    "##### c'est l'hypothèse que nous testons quand on a recours à l'analyse de la variance"
   ]
  },
  {
   "cell_type": "code",
   "execution_count": 50,
   "metadata": {},
   "outputs": [
    {
     "name": "stdout",
     "output_type": "stream",
     "text": [
      "\n",
      "\n",
      "#[6.1] ANOVA ===salaire seul===\n",
      "   Variable        N        Mean         SD       SE   95% Conf.    Interval\n",
      "0  salaire  19905.0  34974.3439  5003.0996  35.4616  34904.8363  35043.8516\n",
      "\n",
      "\n",
      "#[6.2] ANOVA ===salaire groupé par type de cheveux===\n",
      "             N        Mean         SD        SE   95% Conf.    Interval\n",
      "cheveux                                                               \n",
      "blond    5899  34668.1882  5024.2370   65.4155  34539.9498  34796.4266\n",
      "brun     5967  35028.5983  4945.5155   64.0226  34903.0908  35154.1058\n",
      "chatain  5992  35396.5038  5000.6190   64.6008  35269.8630  35523.1447\n",
      "roux     1944  34432.1039  5034.9706  114.1955  34208.1454  34656.0624\n",
      "\n",
      "#[6.3]====foneway====\n",
      " F_onewayResult(statistic=nan, pvalue=nan)\n"
     ]
    }
   ],
   "source": [
    "#[6] One Way anova with python\n",
    "#print(\"\\n\\n#[6]==========librairie researchpy===============\")\n",
    "#[6.1] Calcul et affiche le calcul de la table Anova du salaire pour toutes les catégories de cheveux\n",
    "print (\"#[6.1] ANOVA ===salaire seul===\\n\",rp.summary_cont(df['salaire']))\n",
    "#[6.2] Calcul et affiche le calcul de la table Anova du salaire par couleur de cheveux\n",
    "print (\"#[6.2] ANOVA ===salaire groupé par type de cheveux===\\n\",\n",
    "       rp.summary_cont(df['salaire'].groupby(df['cheveux'])))\n",
    "#[6.3] Calcul et affiche F-statistic and p-value du test\n",
    "foneway=ss.f_oneway (df['salaire'][df['cheveux']  == 'chatain'],\n",
    "             df['salaire'][df['cheveux'] == 'brun'],\n",
    "             df['salaire'][df['cheveux'] == 'blond'],\n",
    "             df['salaire'][df['cheveux'] == 'roux'])\n",
    "print (\"\\n#[6.3]====foneway====\\n\",foneway)"
   ]
  },
  {
   "cell_type": "code",
   "execution_count": null,
   "metadata": {},
   "outputs": [],
   "source": []
  }
 ],
 "metadata": {
  "kernelspec": {
   "display_name": "Python 3",
   "language": "python",
   "name": "python3"
  },
  "language_info": {
   "codemirror_mode": {
    "name": "ipython",
    "version": 3
   },
   "file_extension": ".py",
   "mimetype": "text/x-python",
   "name": "python",
   "nbconvert_exporter": "python",
   "pygments_lexer": "ipython3",
   "version": "3.8.3"
  }
 },
 "nbformat": 4,
 "nbformat_minor": 4
}
